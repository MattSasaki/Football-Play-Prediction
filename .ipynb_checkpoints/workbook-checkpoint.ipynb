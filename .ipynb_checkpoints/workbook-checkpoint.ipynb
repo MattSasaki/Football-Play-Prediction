{
 "cells": [
  {
   "cell_type": "code",
   "execution_count": 2,
   "id": "5c35d4ed",
   "metadata": {},
   "outputs": [],
   "source": [
    "import pandas as pd\n",
    "import numpy as np\n",
    "import nfl_data_py as nfl\n",
    "pd.set_option('display.max_columns', None)"
   ]
  },
  {
   "cell_type": "code",
   "execution_count": 3,
   "id": "37563b07",
   "metadata": {},
   "outputs": [],
   "source": [
    "years = list(range(1999, 2023))"
   ]
  },
  {
   "cell_type": "code",
   "execution_count": 4,
   "id": "97b1b0a0",
   "metadata": {},
   "outputs": [],
   "source": [
    "cols = [\"posteam\", \"posteam_type\", \"side_of_field\", \"yardline_100\", \"half_seconds_remaining\", \"game_seconds_remaining\",\n",
    "       \"ydstogo\", \"score_differential\", \"wp\", \"weather\", \"roof\", \"surface\", \"wind\", \"desc\", \"play_type\", \"pass_length\", \n",
    "       \"air_yards\", \"run_location\", \"drive\"]"
   ]
  },
  {
   "cell_type": "code",
   "execution_count": 5,
   "id": "597baef4",
   "metadata": {},
   "outputs": [
    {
     "name": "stdout",
     "output_type": "stream",
     "text": [
      "1999 done.\n",
      "2000 done.\n",
      "2001 done.\n",
      "2002 done.\n",
      "2003 done.\n",
      "2004 done.\n",
      "2005 done.\n",
      "2006 done.\n",
      "2007 done.\n",
      "2008 done.\n",
      "2009 done.\n",
      "2010 done.\n",
      "2011 done.\n",
      "2012 done.\n",
      "2013 done.\n",
      "2014 done.\n",
      "2015 done.\n",
      "2016 done.\n",
      "2017 done.\n",
      "2018 done.\n",
      "2019 done.\n",
      "2020 done.\n",
      "2021 done.\n",
      "2022 done.\n",
      "Downcasting floats.\n"
     ]
    }
   ],
   "source": [
    "nfl_df = nfl.import_pbp_data(years, columns = cols, cache = False, alt_path= None)"
   ]
  },
  {
   "cell_type": "code",
   "execution_count": 7,
   "id": "b8d0bf5d",
   "metadata": {},
   "outputs": [
    {
     "data": {
      "text/plain": [
       "(1148717, 34)"
      ]
     },
     "execution_count": 7,
     "metadata": {},
     "output_type": "execute_result"
    }
   ],
   "source": [
    "nfl_df.shape"
   ]
  },
  {
   "cell_type": "code",
   "execution_count": 26,
   "id": "4b806762",
   "metadata": {},
   "outputs": [
    {
     "data": {
      "text/plain": [
       "889992"
      ]
     },
     "execution_count": 26,
     "metadata": {},
     "output_type": "execute_result"
    }
   ],
   "source": [
    "nfl_df['offense_personnel'].isna().sum()"
   ]
  },
  {
   "cell_type": "code",
   "execution_count": null,
   "id": "b1a62089",
   "metadata": {},
   "outputs": [],
   "source": []
  }
 ],
 "metadata": {
  "kernelspec": {
   "display_name": "Python 3",
   "language": "python",
   "name": "python3"
  },
  "language_info": {
   "codemirror_mode": {
    "name": "ipython",
    "version": 3
   },
   "file_extension": ".py",
   "mimetype": "text/x-python",
   "name": "python",
   "nbconvert_exporter": "python",
   "pygments_lexer": "ipython3",
   "version": "3.8.8"
  }
 },
 "nbformat": 4,
 "nbformat_minor": 5
}
